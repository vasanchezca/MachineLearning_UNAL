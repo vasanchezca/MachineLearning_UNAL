{
 "cells": [
  {
   "cell_type": "markdown",
   "id": "94f3e9f2-cf9f-4983-b575-405959be2b5a",
   "metadata": {
    "tags": []
   },
   "source": [
    "### Importar Datos"
   ]
  },
  {
   "cell_type": "code",
   "execution_count": 1,
   "id": "d52cce76-68d0-4ca4-9feb-5192b5a73535",
   "metadata": {},
   "outputs": [],
   "source": [
    "import netCDF4 as nc\n",
    "import rasterio as rio\n",
    "import rasterio\n",
    "from rasterio.mask import mask\n",
    "import rioxarray as rxr\n",
    "import xarray as xr\n",
    "import matplotlib.pyplot as plt\n",
    "import numpy as np\n",
    "import os\n",
    "import glob\n",
    "import pathlib\n",
    "import geopandas\n",
    "from osgeo import gdal\n",
    "from pyproj import CRS\n",
    "# import cartopy.crs as ccrs\n",
    "import pandas as pd\n",
    "from rasterio.enums import Resampling\n",
    "import datetime as dt\n",
    "import warnings\n",
    "warnings.filterwarnings('ignore')"
   ]
  },
  {
   "cell_type": "code",
   "execution_count": 2,
   "id": "50e8b031-27cb-4480-9cf5-efcd47f2be67",
   "metadata": {},
   "outputs": [],
   "source": [
    "ruta_base = \"../DATOS\""
   ]
  },
  {
   "cell_type": "markdown",
   "id": "6d99f114-67e2-4dd1-9663-cd26b1f1a1f1",
   "metadata": {
    "tags": []
   },
   "source": [
    "### Leer shape file Antioquia"
   ]
  },
  {
   "cell_type": "code",
   "execution_count": 3,
   "id": "cdba3e3d-3b93-494c-bd06-b72030f99a57",
   "metadata": {},
   "outputs": [],
   "source": [
    "sf = geopandas.read_file(f'{ruta_base}/SHAPES/Antioquia.shp')"
   ]
  },
  {
   "cell_type": "markdown",
   "id": "1d7bc23b-2687-4adc-a9f6-72060c21e1f1",
   "metadata": {
    "tags": []
   },
   "source": [
    "### ERA5 - Coberturas:"
   ]
  },
  {
   "cell_type": "code",
   "execution_count": 6,
   "id": "8172283b-4ba0-490f-a470-2a4dd5e3d8d8",
   "metadata": {},
   "outputs": [],
   "source": [
    "lndc = rasterio.open(f'{ruta_base}/ERA5_land_cover/land_cover.tif')"
   ]
  },
  {
   "cell_type": "code",
   "execution_count": 7,
   "id": "ebb0bbf2-8ecd-46a4-b91f-573834613e96",
   "metadata": {},
   "outputs": [],
   "source": [
    "out_image_l, out_transform_lndc = rio.mask.mask(lndc, sf.geometry, all_touched=True, invert=False, nodata=-999, filled=True, crop=True, pad=False, pad_width=0.5, indexes=None)"
   ]
  },
  {
   "cell_type": "code",
   "execution_count": 8,
   "id": "6afb3ffd-f898-42b2-bd65-f53458eaad4e",
   "metadata": {},
   "outputs": [
    {
     "data": {
      "text/plain": [
       "20"
      ]
     },
     "execution_count": 8,
     "metadata": {},
     "output_type": "execute_result"
    }
   ],
   "source": [
    "len(out_image_l)"
   ]
  },
  {
   "cell_type": "code",
   "execution_count": 9,
   "id": "405d5eb9-e803-4cf5-8487-0123d8125b4d",
   "metadata": {},
   "outputs": [
    {
     "data": {
      "text/plain": [
       "(144, 70, 66)"
      ]
     },
     "execution_count": 9,
     "metadata": {},
     "output_type": "execute_result"
    }
   ],
   "source": [
    "out_image_lndc = np.repeat(out_image_l,12,0)[24:-72]\n",
    "out_image_lndc.shape"
   ]
  },
  {
   "cell_type": "code",
   "execution_count": 10,
   "id": "27fc4202-5fb2-4c5d-9af1-f2874fbfa16e",
   "metadata": {},
   "outputs": [
    {
     "data": {
      "text/plain": [
       "329184"
      ]
     },
     "execution_count": 10,
     "metadata": {},
     "output_type": "execute_result"
    }
   ],
   "source": [
    "vector_lndc = out_image_lndc.reshape(144*70*66)\n",
    "vector_lndc_cut = vector_lndc[~(vector_lndc==-999)]\n",
    "len(vector_lndc_cut)"
   ]
  },
  {
   "cell_type": "markdown",
   "id": "5be58275-c766-486b-b6cf-e4bae29a9e73",
   "metadata": {
    "tags": []
   },
   "source": [
    "### MOD13A3 - NDVI:"
   ]
  },
  {
   "cell_type": "code",
   "execution_count": 12,
   "id": "80f21296-ac7d-455a-8a4c-1addfab4a2f2",
   "metadata": {},
   "outputs": [],
   "source": [
    "nvdi = rasterio.open(f'{ruta_base}/MOD13A3/ndvi.tif')"
   ]
  },
  {
   "cell_type": "code",
   "execution_count": 13,
   "id": "385681e0-1589-414e-b308-305c83f537ed",
   "metadata": {},
   "outputs": [],
   "source": [
    "out_image_n, out_transform_ndvi = rio.mask.mask(nvdi, sf.geometry, all_touched=True, invert=False, nodata=-999, filled=True, crop=True, pad=False, pad_width=0.5, indexes=None)"
   ]
  },
  {
   "cell_type": "code",
   "execution_count": 14,
   "id": "d8d2c3b3-5a06-47e0-b733-d6e8b9bf5ca5",
   "metadata": {},
   "outputs": [
    {
     "data": {
      "text/plain": [
       "(144, 70, 66)"
      ]
     },
     "execution_count": 14,
     "metadata": {},
     "output_type": "execute_result"
    }
   ],
   "source": [
    "out_image_ndvi = out_image_n[24:-84] # Quitamos un año para coincidir con los datos de cobertura\n",
    "out_image_ndvi.shape"
   ]
  },
  {
   "cell_type": "code",
   "execution_count": 15,
   "id": "86d7e55a-2af7-4bb6-ae50-f096b6a05518",
   "metadata": {},
   "outputs": [
    {
     "data": {
      "text/plain": [
       "314188"
      ]
     },
     "execution_count": 15,
     "metadata": {},
     "output_type": "execute_result"
    }
   ],
   "source": [
    "vector_ndvi     = out_image_ndvi.reshape(144*70*66)\n",
    "vector_ndvi_cut = vector_ndvi[~(vector_ndvi==-999)]\n",
    "len(vector_ndvi_cut)"
   ]
  },
  {
   "cell_type": "markdown",
   "id": "0ac78dae-26f7-4c6c-8fc7-5acd3d1a24d9",
   "metadata": {
    "tags": []
   },
   "source": [
    "### ERA5 - Vientos"
   ]
  },
  {
   "cell_type": "code",
   "execution_count": 16,
   "id": "9b8ff96f-b915-4761-b34e-407fc6f80aab",
   "metadata": {},
   "outputs": [],
   "source": [
    "wind = rasterio.open(f'{ruta_base}/ERA5_wind/wind.tif')"
   ]
  },
  {
   "cell_type": "code",
   "execution_count": 17,
   "id": "06d176af-bb7b-4d88-8e1c-dd48634dd277",
   "metadata": {},
   "outputs": [],
   "source": [
    "out_image_w, out_transform_wind = rio.mask.mask(wind, sf.geometry, all_touched=True, invert=False, nodata=-999, filled=True, crop=True, pad=False, pad_width=0.5, indexes=None)"
   ]
  },
  {
   "cell_type": "code",
   "execution_count": 18,
   "id": "da0bb34e-0ff2-4564-a31f-8a3fd483d4cb",
   "metadata": {},
   "outputs": [
    {
     "data": {
      "text/plain": [
       "(144, 70, 66)"
      ]
     },
     "execution_count": 18,
     "metadata": {},
     "output_type": "execute_result"
    }
   ],
   "source": [
    "out_image_wind = out_image_w[24:-84]\n",
    "out_image_wind.shape"
   ]
  },
  {
   "cell_type": "code",
   "execution_count": 19,
   "id": "9dc715fc-0cbf-4250-8efd-f3a62ff0d631",
   "metadata": {},
   "outputs": [
    {
     "data": {
      "text/plain": [
       "329184"
      ]
     },
     "execution_count": 19,
     "metadata": {},
     "output_type": "execute_result"
    }
   ],
   "source": [
    "vector_wind     = out_image_wind.reshape(144*70*66)\n",
    "vector_wind_cut = vector_wind[~(vector_wind==-999)]\n",
    "len(vector_wind_cut)"
   ]
  },
  {
   "cell_type": "markdown",
   "id": "fc4db71e-c7da-4082-b501-331faf9b41dd",
   "metadata": {
    "tags": []
   },
   "source": [
    "### DEM-Altura"
   ]
  },
  {
   "cell_type": "code",
   "execution_count": 20,
   "id": "2fcda32b-0d3e-4d44-9262-afbe923304cd",
   "metadata": {},
   "outputs": [],
   "source": [
    "dem = rasterio.open(f'{ruta_base}/DEM/Antioquia.tif')"
   ]
  },
  {
   "cell_type": "code",
   "execution_count": 21,
   "id": "a1e87261-e316-4411-8119-4b331ffcc3f1",
   "metadata": {},
   "outputs": [],
   "source": [
    "out_image_d, out_transform_dem = rio.mask.mask(dem, sf.geometry, all_touched=True, invert=False, nodata=-999, filled=True, crop=True, pad=False, pad_width=0.5, indexes=None)"
   ]
  },
  {
   "cell_type": "code",
   "execution_count": 22,
   "id": "c02e9b3f-d6d5-45ff-a514-86a283eb9541",
   "metadata": {},
   "outputs": [
    {
     "data": {
      "text/plain": [
       "(1, 70, 66)"
      ]
     },
     "execution_count": 22,
     "metadata": {},
     "output_type": "execute_result"
    }
   ],
   "source": [
    "out_image_d.shape"
   ]
  },
  {
   "cell_type": "code",
   "execution_count": 23,
   "id": "2611ca48-4ef8-4657-8e16-7c36243f211d",
   "metadata": {
    "tags": []
   },
   "outputs": [
    {
     "data": {
      "text/plain": [
       "(144, 70, 66)"
      ]
     },
     "execution_count": 23,
     "metadata": {},
     "output_type": "execute_result"
    }
   ],
   "source": [
    "out_image_dem = np.repeat(out_image_d,144,0)\n",
    "out_image_dem.shape"
   ]
  },
  {
   "cell_type": "code",
   "execution_count": 24,
   "id": "d75fc006-6b52-450e-90e4-9790a136cee6",
   "metadata": {},
   "outputs": [
    {
     "data": {
      "text/plain": [
       "325872"
      ]
     },
     "execution_count": 24,
     "metadata": {},
     "output_type": "execute_result"
    }
   ],
   "source": [
    "vector_dem    = out_image_dem.reshape(144*70*66)\n",
    "vector_dem_cut = vector_dem[~(vector_dem==-999)]\n",
    "len(vector_dem_cut)"
   ]
  },
  {
   "cell_type": "markdown",
   "id": "7f53f2cf-ff95-432e-99cf-35d0636ba14b",
   "metadata": {
    "tags": []
   },
   "source": [
    "### ERA5 - Cobertura total de nubes"
   ]
  },
  {
   "cell_type": "code",
   "execution_count": 26,
   "id": "42a6a927-55fb-4ebb-aa21-b016af9b4830",
   "metadata": {},
   "outputs": [],
   "source": [
    "clouds = rasterio.open(f'{ruta_base}/ERA5_clouds/clouds.tif')"
   ]
  },
  {
   "cell_type": "code",
   "execution_count": 27,
   "id": "745b3d31-0f21-47e2-8176-c0696811bda3",
   "metadata": {},
   "outputs": [],
   "source": [
    "out_image_c, out_transform_clouds = rio.mask.mask(clouds, sf.geometry, all_touched=True, invert=False, nodata=-999, filled=True, crop=True, pad=False, pad_width=0.5, indexes=None)"
   ]
  },
  {
   "cell_type": "code",
   "execution_count": 28,
   "id": "1f5b3038-bb4c-447e-be8c-ce1cd95c6abf",
   "metadata": {},
   "outputs": [
    {
     "data": {
      "text/plain": [
       "(144, 70, 66)"
      ]
     },
     "execution_count": 28,
     "metadata": {},
     "output_type": "execute_result"
    }
   ],
   "source": [
    "out_image_clouds = out_image_c[24:-84]\n",
    "out_image_clouds.shape"
   ]
  },
  {
   "cell_type": "code",
   "execution_count": 29,
   "id": "f9f9ebaa-0f9c-4bcd-9328-71ff08deefe1",
   "metadata": {},
   "outputs": [
    {
     "data": {
      "text/plain": [
       "329184"
      ]
     },
     "execution_count": 29,
     "metadata": {},
     "output_type": "execute_result"
    }
   ],
   "source": [
    "vector_clouds    = out_image_clouds.reshape(144*70*66)\n",
    "vector_clouds_cut = vector_clouds[~(vector_clouds==-999)]\n",
    "len(vector_clouds_cut)"
   ]
  },
  {
   "cell_type": "markdown",
   "id": "4efd1e64-bb6b-471d-beea-5687389c331b",
   "metadata": {
    "tags": []
   },
   "source": [
    "### ERA5 - Temperatura del suelo"
   ]
  },
  {
   "cell_type": "code",
   "execution_count": 30,
   "id": "b2923ce2-b252-4890-b8f4-61951d33c568",
   "metadata": {},
   "outputs": [],
   "source": [
    "soil_temp = rasterio.open(f'{ruta_base}/ERA5_soil_temp/soil_temp.tif')"
   ]
  },
  {
   "cell_type": "code",
   "execution_count": 31,
   "id": "08601c3b-99c1-4818-8258-cb84ee3fa430",
   "metadata": {},
   "outputs": [],
   "source": [
    "out_image_s, out_transform_soil_temp = rio.mask.mask(soil_temp, sf.geometry, all_touched=True, invert=False, nodata=-999, filled=True, crop=True, pad=False, pad_width=0.5, indexes=None)"
   ]
  },
  {
   "cell_type": "code",
   "execution_count": 32,
   "id": "ea7a2151-102e-46fb-b4a8-d79918ceea03",
   "metadata": {},
   "outputs": [
    {
     "data": {
      "text/plain": [
       "(144, 70, 66)"
      ]
     },
     "execution_count": 32,
     "metadata": {},
     "output_type": "execute_result"
    }
   ],
   "source": [
    "out_image_soil_temp = out_image_s[24:-84]\n",
    "out_image_soil_temp.shape"
   ]
  },
  {
   "cell_type": "code",
   "execution_count": 33,
   "id": "550f8c25-888e-4ff8-b0de-2a918ed8fc1b",
   "metadata": {},
   "outputs": [
    {
     "data": {
      "text/plain": [
       "324864"
      ]
     },
     "execution_count": 33,
     "metadata": {},
     "output_type": "execute_result"
    }
   ],
   "source": [
    "vector_soil_temp    = out_image_soil_temp.reshape(144*70*66)\n",
    "vector_soil_temp_cut = vector_soil_temp[~(vector_soil_temp==-999)]\n",
    "len(vector_soil_temp_cut)"
   ]
  },
  {
   "cell_type": "markdown",
   "id": "1b4a6aa9-42e1-4b5f-bfa2-e787dd942d62",
   "metadata": {
    "tags": []
   },
   "source": [
    "### ERA5 - Evaporación"
   ]
  },
  {
   "cell_type": "code",
   "execution_count": 36,
   "id": "37d911c8-3044-4710-af33-af0f6909fb94",
   "metadata": {},
   "outputs": [],
   "source": [
    "e   = rasterio.open(f'{ruta_base}/ERA5_evaporation/evaporation.tif')"
   ]
  },
  {
   "cell_type": "code",
   "execution_count": 37,
   "id": "00770ddc-f3b4-4e48-a5f6-b09dce3cbde1",
   "metadata": {},
   "outputs": [],
   "source": [
    "out_image_eva, out_transform_e = rio.mask.mask(e, sf.geometry, all_touched=True, invert=False, nodata=-999, filled=True, crop=True, pad=False, pad_width=0.5, indexes=None)"
   ]
  },
  {
   "cell_type": "code",
   "execution_count": 38,
   "id": "85019dd3-db81-49d2-a025-00625ee27788",
   "metadata": {},
   "outputs": [
    {
     "data": {
      "text/plain": [
       "(144, 70, 66)"
      ]
     },
     "execution_count": 38,
     "metadata": {},
     "output_type": "execute_result"
    }
   ],
   "source": [
    "out_image_e = out_image_eva[24:-84]\n",
    "out_image_e.shape"
   ]
  },
  {
   "cell_type": "code",
   "execution_count": 39,
   "id": "66858241-7fae-424a-bb3d-72def47b73bd",
   "metadata": {},
   "outputs": [
    {
     "data": {
      "text/plain": [
       "324864"
      ]
     },
     "execution_count": 39,
     "metadata": {},
     "output_type": "execute_result"
    }
   ],
   "source": [
    "vector_e    = out_image_e.reshape(144*70*66)\n",
    "vector_e_cut = vector_e[~(vector_e==-999)]\n",
    "len(vector_e_cut)"
   ]
  },
  {
   "cell_type": "markdown",
   "id": "68388b38-e2c8-4821-8844-df3580e3b71a",
   "metadata": {
    "tags": []
   },
   "source": [
    "### Anomalias"
   ]
  },
  {
   "cell_type": "code",
   "execution_count": 40,
   "id": "38034245-e9bd-4164-9c7c-4d0fdfdc05b0",
   "metadata": {},
   "outputs": [],
   "source": [
    "anomalias_air_temp  = rasterio.open(f'{ruta_base}/Temp_air/anomalias.tif')"
   ]
  },
  {
   "cell_type": "code",
   "execution_count": 41,
   "id": "424e33f9-7bea-4cce-bc75-29f02cc5c291",
   "metadata": {},
   "outputs": [],
   "source": [
    "out_image_air_temp_anom, out_transform_air_temp_anom = rio.mask.mask(anomalias_air_temp, sf.geometry, all_touched=True, invert=False, nodata=np.nan, filled=True, crop=True, pad=False, pad_width=0.5, indexes=None)"
   ]
  },
  {
   "cell_type": "code",
   "execution_count": 42,
   "id": "b91a0ec9-08ea-4d21-9b7a-6b3b92affddf",
   "metadata": {},
   "outputs": [
    {
     "data": {
      "text/plain": [
       "5328"
      ]
     },
     "execution_count": 42,
     "metadata": {},
     "output_type": "execute_result"
    }
   ],
   "source": [
    "vector_air_temp_anom = out_image_air_temp_anom.reshape(144*70*66)\n",
    "vector_air_temp_anom_cut = vector_air_temp_anom[~np.isnan(vector_air_temp_anom)]\n",
    "len(vector_air_temp_anom_cut)"
   ]
  },
  {
   "cell_type": "code",
   "execution_count": 43,
   "id": "b68154e5-6f1d-439c-a145-14a737855310",
   "metadata": {},
   "outputs": [
    {
     "data": {
      "text/plain": [
       "array([-3.59642812, -3.57406899, -3.36636002, ...,  3.37668307,\n",
       "        3.59163221,         nan])"
      ]
     },
     "execution_count": 43,
     "metadata": {},
     "output_type": "execute_result"
    }
   ],
   "source": [
    "np.unique(vector_air_temp_anom)"
   ]
  },
  {
   "cell_type": "markdown",
   "id": "42429962-afa3-4082-bdc9-bccf41edb767",
   "metadata": {
    "tags": []
   },
   "source": [
    "### Desviación estandar"
   ]
  },
  {
   "cell_type": "code",
   "execution_count": 45,
   "id": "8500d579-63be-4088-9e48-9bbe6fdb3bb0",
   "metadata": {},
   "outputs": [],
   "source": [
    "desviacion_air_temp  = rasterio.open(f'{ruta_base}/Temp_air/desviacion.tif')"
   ]
  },
  {
   "cell_type": "code",
   "execution_count": 46,
   "id": "6ff0fb5f-ed33-44dd-b5f4-05a41f9240fd",
   "metadata": {},
   "outputs": [],
   "source": [
    "out_image_air_temp_desv, out_transform_air_temp_desv = rio.mask.mask(desviacion_air_temp, sf.geometry, all_touched=True, invert=False, nodata=np.nan, filled=True, crop=True, pad=False, pad_width=0.5, indexes=None)"
   ]
  },
  {
   "cell_type": "code",
   "execution_count": 47,
   "id": "483f1de4-0417-4687-b7a9-0ba8275e78cb",
   "metadata": {},
   "outputs": [
    {
     "data": {
      "text/plain": [
       "5328"
      ]
     },
     "execution_count": 47,
     "metadata": {},
     "output_type": "execute_result"
    }
   ],
   "source": [
    "vector_air_temp_desv = out_image_air_temp_desv.reshape(144*70*66)\n",
    "vector_air_temp_desv_cut = vector_air_temp_desv[~np.isnan(vector_air_temp_desv)]\n",
    "len(vector_air_temp_desv_cut)"
   ]
  },
  {
   "cell_type": "code",
   "execution_count": 48,
   "id": "ca56d045-4b38-473e-8b7f-cb5dc1433331",
   "metadata": {},
   "outputs": [
    {
     "data": {
      "text/plain": [
       "array([0.689216  , 0.69544929, 0.78324123, 0.79595925, 0.80179733,\n",
       "       0.87766633, 0.88682472, 0.93392411, 0.95671998, 0.95797931,\n",
       "       1.00191484, 1.02881578, 1.06325832, 1.06777773, 1.1701789 ,\n",
       "       1.24807004, 1.2506424 , 1.26424451, 1.28544839, 1.33573822,\n",
       "       1.37445472, 1.47152752, 1.47737808, 1.52843533, 1.56111982,\n",
       "       1.68034214, 1.70644081, 1.76252129, 1.82716603, 1.84415991,\n",
       "       1.93027902, 1.93039962, 1.95544087, 2.02661576, 2.57016021,\n",
       "       3.30989593])"
      ]
     },
     "execution_count": 48,
     "metadata": {},
     "output_type": "execute_result"
    }
   ],
   "source": [
    "np.unique(vector_air_temp_desv_cut)"
   ]
  },
  {
   "cell_type": "code",
   "execution_count": 49,
   "id": "045e619a-6727-4ef8-8102-aa824a54a7e8",
   "metadata": {
    "tags": []
   },
   "outputs": [],
   "source": [
    "categoria = []\n",
    "\n",
    "for i in range(len(vector_air_temp_anom)):\n",
    "    if vector_air_temp_anom[i] >= vector_air_temp_desv[i]:\n",
    "        categoria.append('1')\n",
    "    elif vector_air_temp_anom[i] <= -vector_air_temp_desv[i]:\n",
    "        categoria.append('0')\n",
    "    elif (vector_air_temp_anom[i] > -vector_air_temp_desv[i]) and (vector_air_temp_anom[i] < vector_air_temp_desv[i]):\n",
    "        categoria.append('0')\n",
    "    else:\n",
    "        categoria.append(-999)temperatura_aire\n",
    "categoria = np.array(categoria).astype(int)"
   ]
  },
  {
   "cell_type": "code",
   "execution_count": 50,
   "id": "42ad15e3-224b-4672-92db-f3617f181b24",
   "metadata": {},
   "outputs": [
    {
     "data": {
      "text/plain": [
       "5328"
      ]
     },
     "execution_count": 50,
     "metadata": {},
     "output_type": "execute_result"
    }
   ],
   "source": [
    "len(np.where(categoria != -999)[0])"
   ]
  },
  {
   "cell_type": "markdown",
   "id": "b5546f1b-2c17-4faf-9813-3bf3a2e16580",
   "metadata": {},
   "source": [
    "### ERA5 Evapo plantas"
   ]
  },
  {
   "cell_type": "code",
   "execution_count": 51,
   "id": "7141ad39-62af-46a6-a574-7ce2f0250cd6",
   "metadata": {},
   "outputs": [],
   "source": [
    "evapoplantas = rasterio.open(f'{ruta_base}/ERA5_evapo/evapoplantas.tif')"
   ]
  },
  {
   "cell_type": "code",
   "execution_count": 52,
   "id": "df0c4af3-86df-4f6f-98b9-9a74efa3fe5f",
   "metadata": {},
   "outputs": [],
   "source": [
    "out_image_evap, out_transform_ep = rio.mask.mask(evapoplantas, sf.geometry, all_touched=True, invert=False, nodata=-999, filled=True, crop=True, pad=False, pad_width=0.5, indexes=None)"
   ]
  },
  {
   "cell_type": "code",
   "execution_count": 53,
   "id": "4927ed21-a811-492f-98aa-f3a0659aea8b",
   "metadata": {},
   "outputs": [
    {
     "data": {
      "text/plain": [
       "(144, 70, 66)"
      ]
     },
     "execution_count": 53,
     "metadata": {},
     "output_type": "execute_result"
    }
   ],
   "source": [
    "out_image_ep = out_image_evap\n",
    "out_image_ep.shape"
   ]
  },
  {
   "cell_type": "code",
   "execution_count": 54,
   "id": "bd1aec6c-bee4-4220-a8a5-01f4dd62979d",
   "metadata": {},
   "outputs": [
    {
     "data": {
      "text/plain": [
       "array([-1.4934222e-03, -1.4821861e-03, -1.4407535e-03, ...,\n",
       "       -1.7509687e-07, -8.7315605e-08,  4.6566129e-10], dtype=float32)"
      ]
     },
     "execution_count": 54,
     "metadata": {},
     "output_type": "execute_result"
    }
   ],
   "source": [
    "vector_ep    = out_image_ep.reshape(144*70*66)\n",
    "vector_ep_cut = vector_ep[~(vector_ep==-999)]\n",
    "np.unique(vector_ep_cut)"
   ]
  },
  {
   "cell_type": "markdown",
   "id": "b674eb18-7238-4f0d-9e33-97cc77ae1d70",
   "metadata": {
    "tags": []
   },
   "source": [
    "### Dataframe con las variables filtradas "
   ]
  },
  {
   "cell_type": "code",
   "execution_count": 55,
   "id": "34d587ba-4ff7-4db2-8b41-a5a570c54e0d",
   "metadata": {},
   "outputs": [],
   "source": [
    "d = {'LandCover': vector_lndc, 'Wind': vector_wind, 'DEM': vector_dem, 'NDVI': vector_ndvi, 'Clouds': vector_clouds, 'Temp': vector_soil_temp, 'Eva': vector_e, 'Eva_plant': vector_ep, 'AirTempCategory': categoria}\n",
    "df = pd.DataFrame(data=d)"
   ]
  },
  {
   "cell_type": "code",
   "execution_count": 56,
   "id": "1c762f37-dd29-4aa9-ace8-46da4a30e031",
   "metadata": {},
   "outputs": [
    {
     "data": {
      "text/html": [
       "<div>\n",
       "<style scoped>\n",
       "    .dataframe tbody tr th:only-of-type {\n",
       "        vertical-align: middle;\n",
       "    }\n",
       "\n",
       "    .dataframe tbody tr th {\n",
       "        vertical-align: top;\n",
       "    }\n",
       "\n",
       "    .dataframe thead th {\n",
       "        text-align: right;\n",
       "    }\n",
       "</style>\n",
       "<table border=\"1\" class=\"dataframe\">\n",
       "  <thead>\n",
       "    <tr style=\"text-align: right;\">\n",
       "      <th></th>\n",
       "      <th>LandCover</th>\n",
       "      <th>Wind</th>\n",
       "      <th>DEM</th>\n",
       "      <th>NDVI</th>\n",
       "      <th>Clouds</th>\n",
       "      <th>Temp</th>\n",
       "      <th>Eva</th>\n",
       "      <th>Eva_plant</th>\n",
       "      <th>AirTempCategory</th>\n",
       "    </tr>\n",
       "  </thead>\n",
       "  <tbody>\n",
       "    <tr>\n",
       "      <th>0</th>\n",
       "      <td>-999.0</td>\n",
       "      <td>-999.0</td>\n",
       "      <td>-999.0</td>\n",
       "      <td>-999.0</td>\n",
       "      <td>-999.0</td>\n",
       "      <td>-999.0</td>\n",
       "      <td>-999.0</td>\n",
       "      <td>-999.0</td>\n",
       "      <td>-999</td>\n",
       "    </tr>\n",
       "    <tr>\n",
       "      <th>1</th>\n",
       "      <td>-999.0</td>\n",
       "      <td>-999.0</td>\n",
       "      <td>-999.0</td>\n",
       "      <td>-999.0</td>\n",
       "      <td>-999.0</td>\n",
       "      <td>-999.0</td>\n",
       "      <td>-999.0</td>\n",
       "      <td>-999.0</td>\n",
       "      <td>-999</td>\n",
       "    </tr>\n",
       "    <tr>\n",
       "      <th>2</th>\n",
       "      <td>-999.0</td>\n",
       "      <td>-999.0</td>\n",
       "      <td>-999.0</td>\n",
       "      <td>-999.0</td>\n",
       "      <td>-999.0</td>\n",
       "      <td>-999.0</td>\n",
       "      <td>-999.0</td>\n",
       "      <td>-999.0</td>\n",
       "      <td>-999</td>\n",
       "    </tr>\n",
       "    <tr>\n",
       "      <th>3</th>\n",
       "      <td>-999.0</td>\n",
       "      <td>-999.0</td>\n",
       "      <td>-999.0</td>\n",
       "      <td>-999.0</td>\n",
       "      <td>-999.0</td>\n",
       "      <td>-999.0</td>\n",
       "      <td>-999.0</td>\n",
       "      <td>-999.0</td>\n",
       "      <td>-999</td>\n",
       "    </tr>\n",
       "    <tr>\n",
       "      <th>4</th>\n",
       "      <td>-999.0</td>\n",
       "      <td>-999.0</td>\n",
       "      <td>-999.0</td>\n",
       "      <td>-999.0</td>\n",
       "      <td>-999.0</td>\n",
       "      <td>-999.0</td>\n",
       "      <td>-999.0</td>\n",
       "      <td>-999.0</td>\n",
       "      <td>-999</td>\n",
       "    </tr>\n",
       "    <tr>\n",
       "      <th>...</th>\n",
       "      <td>...</td>\n",
       "      <td>...</td>\n",
       "      <td>...</td>\n",
       "      <td>...</td>\n",
       "      <td>...</td>\n",
       "      <td>...</td>\n",
       "      <td>...</td>\n",
       "      <td>...</td>\n",
       "      <td>...</td>\n",
       "    </tr>\n",
       "    <tr>\n",
       "      <th>665275</th>\n",
       "      <td>-999.0</td>\n",
       "      <td>-999.0</td>\n",
       "      <td>-999.0</td>\n",
       "      <td>-999.0</td>\n",
       "      <td>-999.0</td>\n",
       "      <td>-999.0</td>\n",
       "      <td>-999.0</td>\n",
       "      <td>-999.0</td>\n",
       "      <td>-999</td>\n",
       "    </tr>\n",
       "    <tr>\n",
       "      <th>665276</th>\n",
       "      <td>-999.0</td>\n",
       "      <td>-999.0</td>\n",
       "      <td>-999.0</td>\n",
       "      <td>-999.0</td>\n",
       "      <td>-999.0</td>\n",
       "      <td>-999.0</td>\n",
       "      <td>-999.0</td>\n",
       "      <td>-999.0</td>\n",
       "      <td>-999</td>\n",
       "    </tr>\n",
       "    <tr>\n",
       "      <th>665277</th>\n",
       "      <td>-999.0</td>\n",
       "      <td>-999.0</td>\n",
       "      <td>-999.0</td>\n",
       "      <td>-999.0</td>\n",
       "      <td>-999.0</td>\n",
       "      <td>-999.0</td>\n",
       "      <td>-999.0</td>\n",
       "      <td>-999.0</td>\n",
       "      <td>-999</td>\n",
       "    </tr>\n",
       "    <tr>\n",
       "      <th>665278</th>\n",
       "      <td>-999.0</td>\n",
       "      <td>-999.0</td>\n",
       "      <td>-999.0</td>\n",
       "      <td>-999.0</td>\n",
       "      <td>-999.0</td>\n",
       "      <td>-999.0</td>\n",
       "      <td>-999.0</td>\n",
       "      <td>-999.0</td>\n",
       "      <td>-999</td>\n",
       "    </tr>\n",
       "    <tr>\n",
       "      <th>665279</th>\n",
       "      <td>-999.0</td>\n",
       "      <td>-999.0</td>\n",
       "      <td>-999.0</td>\n",
       "      <td>-999.0</td>\n",
       "      <td>-999.0</td>\n",
       "      <td>-999.0</td>\n",
       "      <td>-999.0</td>\n",
       "      <td>-999.0</td>\n",
       "      <td>-999</td>\n",
       "    </tr>\n",
       "  </tbody>\n",
       "</table>\n",
       "<p>665280 rows × 9 columns</p>\n",
       "</div>"
      ],
      "text/plain": [
       "        LandCover   Wind    DEM   NDVI  Clouds   Temp    Eva  Eva_plant  \\\n",
       "0          -999.0 -999.0 -999.0 -999.0  -999.0 -999.0 -999.0     -999.0   \n",
       "1          -999.0 -999.0 -999.0 -999.0  -999.0 -999.0 -999.0     -999.0   \n",
       "2          -999.0 -999.0 -999.0 -999.0  -999.0 -999.0 -999.0     -999.0   \n",
       "3          -999.0 -999.0 -999.0 -999.0  -999.0 -999.0 -999.0     -999.0   \n",
       "4          -999.0 -999.0 -999.0 -999.0  -999.0 -999.0 -999.0     -999.0   \n",
       "...           ...    ...    ...    ...     ...    ...    ...        ...   \n",
       "665275     -999.0 -999.0 -999.0 -999.0  -999.0 -999.0 -999.0     -999.0   \n",
       "665276     -999.0 -999.0 -999.0 -999.0  -999.0 -999.0 -999.0     -999.0   \n",
       "665277     -999.0 -999.0 -999.0 -999.0  -999.0 -999.0 -999.0     -999.0   \n",
       "665278     -999.0 -999.0 -999.0 -999.0  -999.0 -999.0 -999.0     -999.0   \n",
       "665279     -999.0 -999.0 -999.0 -999.0  -999.0 -999.0 -999.0     -999.0   \n",
       "\n",
       "        AirTempCategory  \n",
       "0                  -999  \n",
       "1                  -999  \n",
       "2                  -999  \n",
       "3                  -999  \n",
       "4                  -999  \n",
       "...                 ...  \n",
       "665275             -999  \n",
       "665276             -999  \n",
       "665277             -999  \n",
       "665278             -999  \n",
       "665279             -999  \n",
       "\n",
       "[665280 rows x 9 columns]"
      ]
     },
     "execution_count": 56,
     "metadata": {},
     "output_type": "execute_result"
    }
   ],
   "source": [
    "df"
   ]
  },
  {
   "cell_type": "code",
   "execution_count": 57,
   "id": "7e382857-84c2-44f8-ab1a-aabefe9556ba",
   "metadata": {},
   "outputs": [
    {
     "data": {
      "text/html": [
       "<div>\n",
       "<style scoped>\n",
       "    .dataframe tbody tr th:only-of-type {\n",
       "        vertical-align: middle;\n",
       "    }\n",
       "\n",
       "    .dataframe tbody tr th {\n",
       "        vertical-align: top;\n",
       "    }\n",
       "\n",
       "    .dataframe thead th {\n",
       "        text-align: right;\n",
       "    }\n",
       "</style>\n",
       "<table border=\"1\" class=\"dataframe\">\n",
       "  <thead>\n",
       "    <tr style=\"text-align: right;\">\n",
       "      <th></th>\n",
       "      <th>LandCover</th>\n",
       "      <th>Wind</th>\n",
       "      <th>DEM</th>\n",
       "      <th>NDVI</th>\n",
       "      <th>Clouds</th>\n",
       "      <th>Temp</th>\n",
       "      <th>Eva</th>\n",
       "      <th>Eva_plant</th>\n",
       "      <th>AirTempCategory</th>\n",
       "    </tr>\n",
       "  </thead>\n",
       "  <tbody>\n",
       "    <tr>\n",
       "      <th>405</th>\n",
       "      <td>40.0</td>\n",
       "      <td>4.404932</td>\n",
       "      <td>39.0</td>\n",
       "      <td>0.69</td>\n",
       "      <td>0.473909</td>\n",
       "      <td>27.549194</td>\n",
       "      <td>-0.003469</td>\n",
       "      <td>-4.380239e-05</td>\n",
       "      <td>0</td>\n",
       "    </tr>\n",
       "    <tr>\n",
       "      <th>406</th>\n",
       "      <td>40.0</td>\n",
       "      <td>4.108960</td>\n",
       "      <td>49.0</td>\n",
       "      <td>0.77</td>\n",
       "      <td>0.480379</td>\n",
       "      <td>27.544739</td>\n",
       "      <td>-0.003545</td>\n",
       "      <td>-1.457122e-05</td>\n",
       "      <td>0</td>\n",
       "    </tr>\n",
       "    <tr>\n",
       "      <th>1328</th>\n",
       "      <td>40.0</td>\n",
       "      <td>3.921639</td>\n",
       "      <td>14.0</td>\n",
       "      <td>0.78</td>\n",
       "      <td>0.538886</td>\n",
       "      <td>27.015350</td>\n",
       "      <td>-0.004009</td>\n",
       "      <td>-1.720466e-05</td>\n",
       "      <td>0</td>\n",
       "    </tr>\n",
       "    <tr>\n",
       "      <th>1395</th>\n",
       "      <td>50.0</td>\n",
       "      <td>3.284423</td>\n",
       "      <td>45.0</td>\n",
       "      <td>0.77</td>\n",
       "      <td>0.595392</td>\n",
       "      <td>26.776520</td>\n",
       "      <td>-0.003976</td>\n",
       "      <td>4.656613e-10</td>\n",
       "      <td>0</td>\n",
       "    </tr>\n",
       "    <tr>\n",
       "      <th>1396</th>\n",
       "      <td>11.0</td>\n",
       "      <td>2.966187</td>\n",
       "      <td>79.0</td>\n",
       "      <td>0.78</td>\n",
       "      <td>0.636385</td>\n",
       "      <td>26.358978</td>\n",
       "      <td>-0.004067</td>\n",
       "      <td>4.656613e-10</td>\n",
       "      <td>0</td>\n",
       "    </tr>\n",
       "    <tr>\n",
       "      <th>...</th>\n",
       "      <td>...</td>\n",
       "      <td>...</td>\n",
       "      <td>...</td>\n",
       "      <td>...</td>\n",
       "      <td>...</td>\n",
       "      <td>...</td>\n",
       "      <td>...</td>\n",
       "      <td>...</td>\n",
       "      <td>...</td>\n",
       "    </tr>\n",
       "    <tr>\n",
       "      <th>664657</th>\n",
       "      <td>50.0</td>\n",
       "      <td>1.179073</td>\n",
       "      <td>2368.0</td>\n",
       "      <td>0.81</td>\n",
       "      <td>0.785024</td>\n",
       "      <td>16.397888</td>\n",
       "      <td>-0.003265</td>\n",
       "      <td>4.656613e-10</td>\n",
       "      <td>0</td>\n",
       "    </tr>\n",
       "    <tr>\n",
       "      <th>664716</th>\n",
       "      <td>50.0</td>\n",
       "      <td>0.957614</td>\n",
       "      <td>737.0</td>\n",
       "      <td>0.77</td>\n",
       "      <td>0.786089</td>\n",
       "      <td>20.228333</td>\n",
       "      <td>-0.003138</td>\n",
       "      <td>4.656613e-10</td>\n",
       "      <td>0</td>\n",
       "    </tr>\n",
       "    <tr>\n",
       "      <th>664847</th>\n",
       "      <td>30.0</td>\n",
       "      <td>0.910709</td>\n",
       "      <td>805.0</td>\n",
       "      <td>0.79</td>\n",
       "      <td>0.795860</td>\n",
       "      <td>17.989594</td>\n",
       "      <td>-0.003124</td>\n",
       "      <td>4.656613e-10</td>\n",
       "      <td>0</td>\n",
       "    </tr>\n",
       "    <tr>\n",
       "      <th>664909</th>\n",
       "      <td>50.0</td>\n",
       "      <td>0.887851</td>\n",
       "      <td>1225.0</td>\n",
       "      <td>0.85</td>\n",
       "      <td>0.841868</td>\n",
       "      <td>16.256653</td>\n",
       "      <td>-0.003198</td>\n",
       "      <td>4.656613e-10</td>\n",
       "      <td>0</td>\n",
       "    </tr>\n",
       "    <tr>\n",
       "      <th>664977</th>\n",
       "      <td>40.0</td>\n",
       "      <td>0.908780</td>\n",
       "      <td>2469.0</td>\n",
       "      <td>0.82</td>\n",
       "      <td>0.827497</td>\n",
       "      <td>15.593140</td>\n",
       "      <td>-0.003231</td>\n",
       "      <td>4.656613e-10</td>\n",
       "      <td>0</td>\n",
       "    </tr>\n",
       "  </tbody>\n",
       "</table>\n",
       "<p>5134 rows × 9 columns</p>\n",
       "</div>"
      ],
      "text/plain": [
       "        LandCover      Wind     DEM  NDVI    Clouds       Temp       Eva  \\\n",
       "405          40.0  4.404932    39.0  0.69  0.473909  27.549194 -0.003469   \n",
       "406          40.0  4.108960    49.0  0.77  0.480379  27.544739 -0.003545   \n",
       "1328         40.0  3.921639    14.0  0.78  0.538886  27.015350 -0.004009   \n",
       "1395         50.0  3.284423    45.0  0.77  0.595392  26.776520 -0.003976   \n",
       "1396         11.0  2.966187    79.0  0.78  0.636385  26.358978 -0.004067   \n",
       "...           ...       ...     ...   ...       ...        ...       ...   \n",
       "664657       50.0  1.179073  2368.0  0.81  0.785024  16.397888 -0.003265   \n",
       "664716       50.0  0.957614   737.0  0.77  0.786089  20.228333 -0.003138   \n",
       "664847       30.0  0.910709   805.0  0.79  0.795860  17.989594 -0.003124   \n",
       "664909       50.0  0.887851  1225.0  0.85  0.841868  16.256653 -0.003198   \n",
       "664977       40.0  0.908780  2469.0  0.82  0.827497  15.593140 -0.003231   \n",
       "\n",
       "           Eva_plant  AirTempCategory  \n",
       "405    -4.380239e-05                0  \n",
       "406    -1.457122e-05                0  \n",
       "1328   -1.720466e-05                0  \n",
       "1395    4.656613e-10                0  \n",
       "1396    4.656613e-10                0  \n",
       "...              ...              ...  \n",
       "664657  4.656613e-10                0  \n",
       "664716  4.656613e-10                0  \n",
       "664847  4.656613e-10                0  \n",
       "664909  4.656613e-10                0  \n",
       "664977  4.656613e-10                0  \n",
       "\n",
       "[5134 rows x 9 columns]"
      ]
     },
     "execution_count": 57,
     "metadata": {},
     "output_type": "execute_result"
    }
   ],
   "source": [
    "for col in df.columns:\n",
    "    df = df[df[col] != -999]\n",
    "df['NDVI'] *= 0.00000001\n",
    "df['NDVI'] = np.round(df['NDVI'], 2)\n",
    "df['Temp'] -= 273.15\n",
    "df"
   ]
  },
  {
   "cell_type": "code",
   "execution_count": 276,
   "id": "0ee17312-3259-4c63-8889-8c4294ef415b",
   "metadata": {},
   "outputs": [
    {
     "data": {
      "text/plain": [
       "Index(['LandCover', 'Wind', 'DEM', 'NDVI', 'Clouds', 'Temp', 'Eva',\n",
       "       'AirTempCategory'],\n",
       "      dtype='object')"
      ]
     },
     "execution_count": 276,
     "metadata": {},
     "output_type": "execute_result"
    }
   ],
   "source": [
    "df.columns"
   ]
  },
  {
   "cell_type": "code",
   "execution_count": 58,
   "id": "f6c51ee8-7e2b-4d30-9bd0-c153dec38163",
   "metadata": {},
   "outputs": [],
   "source": [
    "df.to_csv(f'{ruta_base}/Base_datos_comp.csv', ',')"
   ]
  },
  {
   "cell_type": "code",
   "execution_count": 59,
   "id": "b93fb4c8-2eeb-44fe-bea0-ace8ddfce2d7",
   "metadata": {},
   "outputs": [
    {
     "data": {
      "text/plain": [
       "LandCover            10\n",
       "Wind               3347\n",
       "DEM                  36\n",
       "NDVI                 54\n",
       "Clouds             4308\n",
       "Temp               4567\n",
       "Eva                4365\n",
       "Eva_plant           665\n",
       "AirTempCategory       2\n",
       "dtype: int64"
      ]
     },
     "execution_count": 59,
     "metadata": {},
     "output_type": "execute_result"
    }
   ],
   "source": [
    "df.nunique()"
   ]
  },
  {
   "cell_type": "code",
   "execution_count": 60,
   "id": "f9825137-e1c9-4a0b-9318-878b9ba6f89f",
   "metadata": {},
   "outputs": [
    {
     "data": {
      "text/plain": [
       "LandCover          float32\n",
       "Wind               float32\n",
       "DEM                float32\n",
       "NDVI               float32\n",
       "Clouds             float32\n",
       "Temp               float32\n",
       "Eva                float32\n",
       "Eva_plant          float32\n",
       "AirTempCategory      int32\n",
       "dtype: object"
      ]
     },
     "execution_count": 60,
     "metadata": {},
     "output_type": "execute_result"
    }
   ],
   "source": [
    "df.dtypes"
   ]
  },
  {
   "cell_type": "markdown",
   "id": "50e21943-faea-4eba-887f-d25abdfd57d4",
   "metadata": {},
   "source": [
    "### Valores faltantes"
   ]
  },
  {
   "cell_type": "code",
   "execution_count": 61,
   "id": "7fc5e745-2e9d-49dd-8310-c89d419c4070",
   "metadata": {},
   "outputs": [
    {
     "name": "stdout",
     "output_type": "stream",
     "text": [
      "<class 'pandas.core.frame.DataFrame'>\n",
      "Int64Index: 5134 entries, 405 to 664977\n",
      "Data columns (total 9 columns):\n",
      " #   Column           Non-Null Count  Dtype  \n",
      "---  ------           --------------  -----  \n",
      " 0   LandCover        5134 non-null   float32\n",
      " 1   Wind             5134 non-null   float32\n",
      " 2   DEM              5134 non-null   float32\n",
      " 3   NDVI             5134 non-null   float32\n",
      " 4   Clouds           5134 non-null   float32\n",
      " 5   Temp             5134 non-null   float32\n",
      " 6   Eva              5134 non-null   float32\n",
      " 7   Eva_plant        5134 non-null   float32\n",
      " 8   AirTempCategory  5134 non-null   int32  \n",
      "dtypes: float32(8), int32(1)\n",
      "memory usage: 220.6 KB\n"
     ]
    }
   ],
   "source": [
    "df.info()"
   ]
  },
  {
   "cell_type": "code",
   "execution_count": 62,
   "id": "623edc86-1687-4ecc-bf26-7389c32a94c3",
   "metadata": {},
   "outputs": [
    {
     "data": {
      "text/plain": [
       "LandCover          False\n",
       "Wind               False\n",
       "DEM                False\n",
       "NDVI               False\n",
       "Clouds             False\n",
       "Temp               False\n",
       "Eva                False\n",
       "Eva_plant          False\n",
       "AirTempCategory    False\n",
       "dtype: bool"
      ]
     },
     "execution_count": 62,
     "metadata": {},
     "output_type": "execute_result"
    }
   ],
   "source": [
    "df.isna().any()"
   ]
  },
  {
   "cell_type": "code",
   "execution_count": 63,
   "id": "7da88274-d3a6-4b28-901e-b2bb7c1a448b",
   "metadata": {},
   "outputs": [
    {
     "data": {
      "text/plain": [
       "405       True\n",
       "406       True\n",
       "1328      True\n",
       "1395      True\n",
       "1396      True\n",
       "          ... \n",
       "664657    True\n",
       "664716    True\n",
       "664847    True\n",
       "664909    True\n",
       "664977    True\n",
       "Name: LandCover, Length: 5134, dtype: bool"
      ]
     },
     "execution_count": 63,
     "metadata": {},
     "output_type": "execute_result"
    }
   ],
   "source": [
    "pd.notnull(df['LandCover'])"
   ]
  },
  {
   "cell_type": "code",
   "execution_count": 64,
   "id": "2d8c5ce2-8169-4974-9480-a57760ee72d8",
   "metadata": {},
   "outputs": [
    {
     "data": {
      "text/plain": [
       "<AxesSubplot: >"
      ]
     },
     "execution_count": 64,
     "metadata": {},
     "output_type": "execute_result"
    },
    {
     "data": {
      "image/png": "[encoded data removed]",
      "text/plain": [
       "<Figure size 2500x1000 with 2 Axes>"
      ]
     },
     "metadata": {},
     "output_type": "display_data"
    }
   ],
   "source": [
    "import missingno as msno\n",
    "msno.matrix(df)"
   ]
  },
  {
   "cell_type": "code",
   "execution_count": 256,
   "id": "7f240d74-4822-47a2-8727-b7637df47bac",
   "metadata": {},
   "outputs": [
    {
     "data": {
      "text/plain": [
       "<AxesSubplot: >"
      ]
     },
     "execution_count": 256,
     "metadata": {},
     "output_type": "execute_result"
    },
    {
     "data": {
      "image/png": "[encoded data removed]",
      "text/plain": [
       "<Figure size 2400x1000 with 3 Axes>"
      ]
     },
     "metadata": {},
     "output_type": "display_data"
    }
   ],
   "source": [
    "msno.bar(df)"
   ]
  }
 ],
 "metadata": {
  "kernelspec": {
   "display_name": "Python 3 (ipykernel)",
   "language": "python",
   "name": "python3"
  },
  "language_info": {
   "codemirror_mode": {
    "name": "ipython",
    "version": 3
   },
   "file_extension": ".py",
   "mimetype": "text/x-python",
   "name": "python",
   "nbconvert_exporter": "python",
   "pygments_lexer": "ipython3",
   "version": "3.9.0"
  }
 },
 "nbformat": 4,
 "nbformat_minor": 5
}
